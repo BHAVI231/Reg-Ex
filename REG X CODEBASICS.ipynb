{
 "cells": [
  {
   "cell_type": "code",
   "execution_count": 32,
   "id": "93c13a9b",
   "metadata": {},
   "outputs": [],
   "source": [
    "import re"
   ]
  },
  {
   "cell_type": "code",
   "execution_count": 33,
   "id": "c9975aef",
   "metadata": {},
   "outputs": [],
   "source": [
    "chat1 = 'codebasics:you ask lot of questions 1234567892,abc@xyz.com'\n",
    "chat2 = 'codebasics:here it is:(123)-456-7890,abX_82@xyz.com'\n",
    "chat3 = 'codebasics:yes,phone:1234567890 email:abc@xyz.com'"
   ]
  },
  {
   "cell_type": "code",
   "execution_count": 34,
   "id": "87d99169",
   "metadata": {},
   "outputs": [
    {
     "data": {
      "text/plain": [
       "['1234567890']"
      ]
     },
     "execution_count": 34,
     "metadata": {},
     "output_type": "execute_result"
    }
   ],
   "source": [
    "# THIS CODE IS FOR NUMBERS\n",
    "\n",
    "pattern = '\\d{10}'\n",
    "\n",
    "matches = re.findall(pattern,chat3)\n",
    "matches"
   ]
  },
  {
   "cell_type": "code",
   "execution_count": 35,
   "id": "a9268978",
   "metadata": {},
   "outputs": [
    {
     "data": {
      "text/plain": [
       "['(123)-456-7890']"
      ]
     },
     "execution_count": 35,
     "metadata": {},
     "output_type": "execute_result"
    }
   ],
   "source": [
    "# THIS IS ALSO FOR NUMBERS\n",
    "\n",
    "pattern = '\\d{10}|\\(\\d{3}\\)-\\d{3}-\\d{4}'\n",
    "\n",
    "matches = re.findall(pattern,chat2)\n",
    "matches"
   ]
  },
  {
   "cell_type": "code",
   "execution_count": 36,
   "id": "746ff564",
   "metadata": {},
   "outputs": [
    {
     "data": {
      "text/plain": [
       "['abX_82@xyz.com']"
      ]
     },
     "execution_count": 36,
     "metadata": {},
     "output_type": "execute_result"
    }
   ],
   "source": [
    "# THIS IS FOR MAIL\n",
    "\n",
    "pattern = '[a-z0-9A-Z_]*@[a-z0-9A-z]*\\.[a-zA-Z]*'\n",
    "\n",
    "matches = re.findall(pattern,chat2)\n",
    "matches"
   ]
  },
  {
   "cell_type": "code",
   "execution_count": 37,
   "id": "3a2f4602",
   "metadata": {},
   "outputs": [],
   "source": [
    "chat4 = 'hai i have my order #425294'\n",
    "chat5 = 'i am facing issue with my order no 425296'\n",
    "chat6 = 'my order 425297 is not available'"
   ]
  },
  {
   "cell_type": "code",
   "execution_count": 38,
   "id": "c66ba443",
   "metadata": {},
   "outputs": [
    {
     "data": {
      "text/plain": [
       "['425294']"
      ]
     },
     "execution_count": 38,
     "metadata": {},
     "output_type": "execute_result"
    }
   ],
   "source": [
    "# THIS IS FOR ALL NUMBERS AND NAMES BEFORE AND AFTER ORDER\n",
    "\n",
    "pattern = 'order[^\\d]*(\\d*)'\n",
    "\n",
    "matches = re.findall(pattern,chat4)\n",
    "matches"
   ]
  },
  {
   "cell_type": "code",
   "execution_count": 39,
   "id": "f01c345d",
   "metadata": {},
   "outputs": [],
   "source": [
    "text = '''Born\tElon Reeve Musk\n",
    "June 28, 1971 (age 53)\n",
    "Pretoria, Transvaal, South Africa\n",
    "Citizenship\t\n",
    "South Africa\n",
    "Canada\n",
    "United States (from 2002)\n",
    "Education\tUniversity of Pennsylvania (BA, BS)\n",
    "Title\t\n",
    "Founder, CEO, and chief engineer of SpaceX\n",
    "CEO and product architect of Tesla, Inc.\n",
    "Owner, CTO and executive chairman of X (formerly Twitter)\n",
    "President of the Musk Foundation\n",
    "Founder of The Boring Company, X Corp., and xAI\n",
    "Co-founder of Neuralink, OpenAI, Zip2, and X.com (part of PayPal)\n",
    "Spouses\t\n",
    "Justine Wilson\n",
    "​\n",
    "​(m. 2000; div. 2008)​\n",
    "Talulah Riley\n",
    "​\n",
    "​(m. 2010; div. 2012)​\n",
    "​\n",
    "​(m. 2013; div. 2016)'''"
   ]
  },
  {
   "cell_type": "code",
   "execution_count": 40,
   "id": "fa123847",
   "metadata": {},
   "outputs": [
    {
     "data": {
      "text/plain": [
       "['53']"
      ]
     },
     "execution_count": 40,
     "metadata": {},
     "output_type": "execute_result"
    }
   ],
   "source": [
    "# to retrieve age from a page \n",
    "# + indicates one or more\n",
    "\n",
    "pattern = 'age (\\d+)'\n",
    "\n",
    "matches = re.findall(pattern,text)\n",
    "matches"
   ]
  },
  {
   "cell_type": "code",
   "execution_count": 41,
   "id": "a6dc1835",
   "metadata": {},
   "outputs": [
    {
     "data": {
      "text/plain": [
       "'Elon Reeve Musk'"
      ]
     },
     "execution_count": 41,
     "metadata": {},
     "output_type": "execute_result"
    }
   ],
   "source": [
    "# INFORMATION EXTRACTION\n",
    "pattern = 'Born(.*)'\n",
    "\n",
    "matches = re.findall(pattern,text)\n",
    "matches[0].strip() # it will remove the white spaces"
   ]
  },
  {
   "cell_type": "code",
   "execution_count": 42,
   "id": "c5addf51",
   "metadata": {},
   "outputs": [
    {
     "data": {
      "text/plain": [
       "['June 28, 1971 ']"
      ]
     },
     "execution_count": 42,
     "metadata": {},
     "output_type": "execute_result"
    }
   ],
   "source": [
    "pattern = 'Born.*\\n(.*)\\(age'\n",
    "\n",
    "matches = re.findall(pattern,text)\n",
    "matches"
   ]
  },
  {
   "cell_type": "code",
   "execution_count": 43,
   "id": "1cac6555",
   "metadata": {},
   "outputs": [
    {
     "data": {
      "text/plain": [
       "['Pretoria, Transvaal, South Africa']"
      ]
     },
     "execution_count": 43,
     "metadata": {},
     "output_type": "execute_result"
    }
   ],
   "source": [
    "pattern = '\\(age.*\\n(.*)'\n",
    "\n",
    "matches = re.findall(pattern,text)\n",
    "matches"
   ]
  },
  {
   "cell_type": "code",
   "execution_count": 44,
   "id": "363539e2",
   "metadata": {},
   "outputs": [],
   "source": [
    "def get_pattern_match(pattern,text):\n",
    "    matches=re.findall(pattern,text)\n",
    "    if matches:\n",
    "        return matches[0]"
   ]
  },
  {
   "cell_type": "code",
   "execution_count": 45,
   "id": "31720f96",
   "metadata": {},
   "outputs": [
    {
     "data": {
      "text/plain": [
       "'Pretoria, Transvaal, South Africa'"
      ]
     },
     "execution_count": 45,
     "metadata": {},
     "output_type": "execute_result"
    }
   ],
   "source": [
    "get_pattern_match('\\(age.*\\n(.*)',text)"
   ]
  },
  {
   "cell_type": "code",
   "execution_count": 50,
   "id": "3933213c",
   "metadata": {},
   "outputs": [],
   "source": [
    "def get_personal_information(text):\n",
    "    age = get_pattern_match('age(\\d+)',text)\n",
    "    full_name = get_pattern_match('Born(.*)\\n',text)\n",
    "    birth_date = get_pattern_match('Born.*\\n(.*)\\(age',text)\n",
    "    birth_place = get_pattern_match('\\(age.*\\n(.*)',text)\n",
    "    \n",
    "    return{\n",
    "        'age':int(age) if age else None,\n",
    "        'name':full_name.strip(),\n",
    "        'birth_date':birth_date.strip(),\n",
    "        'birth_place':birth_place.strip()\n",
    "    }"
   ]
  },
  {
   "cell_type": "code",
   "execution_count": 51,
   "id": "6702221a",
   "metadata": {},
   "outputs": [
    {
     "data": {
      "text/plain": [
       "{'age': None,\n",
       " 'name': 'Elon Reeve Musk',\n",
       " 'birth_date': 'June 28, 1971',\n",
       " 'birth_place': 'Pretoria, Transvaal, South Africa'}"
      ]
     },
     "execution_count": 51,
     "metadata": {},
     "output_type": "execute_result"
    }
   ],
   "source": [
    "get_personal_information(text)"
   ]
  },
  {
   "cell_type": "code",
   "execution_count": null,
   "id": "5097bddd",
   "metadata": {},
   "outputs": [],
   "source": []
  },
  {
   "cell_type": "code",
   "execution_count": null,
   "id": "517109e2",
   "metadata": {},
   "outputs": [],
   "source": []
  },
  {
   "cell_type": "code",
   "execution_count": null,
   "id": "fd9e7957",
   "metadata": {},
   "outputs": [],
   "source": []
  }
 ],
 "metadata": {
  "kernelspec": {
   "display_name": "Python 3 (ipykernel)",
   "language": "python",
   "name": "python3"
  },
  "language_info": {
   "codemirror_mode": {
    "name": "ipython",
    "version": 3
   },
   "file_extension": ".py",
   "mimetype": "text/x-python",
   "name": "python",
   "nbconvert_exporter": "python",
   "pygments_lexer": "ipython3",
   "version": "3.9.7"
  }
 },
 "nbformat": 4,
 "nbformat_minor": 5
}
